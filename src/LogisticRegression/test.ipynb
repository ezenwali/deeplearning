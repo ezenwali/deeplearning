{
 "cells": [
  {
   "cell_type": "code",
   "execution_count": 24,
   "metadata": {},
   "outputs": [
    {
     "name": "stdout",
     "output_type": "stream",
     "text": [
      "The autoreload extension is already loaded. To reload it, use:\n",
      "  %reload_ext autoreload\n"
     ]
    }
   ],
   "source": [
    "import numpy as np\n",
    "import matplotlib.pyplot as plt\n",
    "import h5py\n",
    "from PIL import Image\n",
    "from scipy import ndimage\n",
    "\n",
    "%matplotlib inline\n",
    "%load_ext autoreload\n",
    "%autoreload 2"
   ]
  },
  {
   "cell_type": "code",
   "execution_count": 25,
   "metadata": {},
   "outputs": [],
   "source": [
    "def load_dataset():\n",
    "    train_dataset = h5py.File('datasets/train_catvnoncat.h5', \"r\")\n",
    "    train_set_x_orig = np.array(train_dataset[\"train_set_x\"][:]) # your train set features\n",
    "    train_set_y_orig = np.array(train_dataset[\"train_set_y\"][:]) # your train set labels\n",
    "\n",
    "    test_dataset = h5py.File('datasets/test_catvnoncat.h5', \"r\")\n",
    "    test_set_x_orig = np.array(test_dataset[\"test_set_x\"][:]) # your test set features\n",
    "    test_set_y_orig = np.array(test_dataset[\"test_set_y\"][:]) # your test set labels\n",
    "\n",
    "    classes = np.array(test_dataset[\"list_classes\"][:]) # the list of classes\n",
    "    \n",
    "    train_set_y_orig = train_set_y_orig.reshape((1, train_set_y_orig.shape[0]))\n",
    "    test_set_y_orig = test_set_y_orig.reshape((1, test_set_y_orig.shape[0]))\n",
    "    \n",
    "    return train_set_x_orig, train_set_y_orig, test_set_x_orig, test_set_y_orig, classes"
   ]
  },
  {
   "cell_type": "code",
   "execution_count": 26,
   "metadata": {},
   "outputs": [],
   "source": [
    "train_set_x_orig, train_set_y, test_set_x_orig, test_set_y, classes = load_dataset()"
   ]
  },
  {
   "cell_type": "code",
   "execution_count": 27,
   "metadata": {},
   "outputs": [
    {
     "data": {
      "text/plain": [
       "(209, 64, 64, 3)"
      ]
     },
     "execution_count": 27,
     "metadata": {},
     "output_type": "execute_result"
    }
   ],
   "source": [
    "train_set_x_orig.shape"
   ]
  },
  {
   "cell_type": "code",
   "execution_count": 28,
   "metadata": {},
   "outputs": [
    {
     "name": "stdout",
     "output_type": "stream",
     "text": [
      "Number of training examples: 209\n",
      "shape of training examples: (209, 64, 64, 3)\n",
      "shape of training labels: (1, 209)\n",
      "shape of test examples: (50, 64, 64, 3)\n",
      "Number of test examples: 50\n"
     ]
    }
   ],
   "source": [
    "print(f\"Number of training examples: {train_set_x_orig.shape[0]}\")\n",
    "print (\"shape of training examples: \" + str(train_set_x_orig.shape))\n",
    "print (\"shape of training labels: \" + str(train_set_y.shape))\n",
    "print (\"shape of test examples: \" + str(test_set_x_orig.shape))\n",
    "print(f\"Number of test examples: {test_set_x_orig.shape[0]}\")"
   ]
  },
  {
   "cell_type": "code",
   "execution_count": 29,
   "metadata": {},
   "outputs": [
    {
     "data": {
      "text/plain": [
       "(209, 64, 64, 3)"
      ]
     },
     "execution_count": 29,
     "metadata": {},
     "output_type": "execute_result"
    }
   ],
   "source": [
    "train_set_x_orig.shape"
   ]
  },
  {
   "cell_type": "code",
   "execution_count": 30,
   "metadata": {},
   "outputs": [
    {
     "data": {
      "text/plain": [
       "array([[0, 0, 1, 0, 0, 0, 0, 1, 0, 0, 0, 1, 0, 1, 1, 0, 0, 0, 0, 1, 0, 0,\n",
       "        0, 0, 1, 1, 0, 1, 0, 1, 0, 0, 0, 0, 0, 0, 0, 0, 1, 0, 0, 1, 1, 0,\n",
       "        0, 0, 0, 1, 0, 0, 1, 0, 0, 0, 1, 0, 1, 1, 0, 1, 1, 1, 0, 0, 0, 0,\n",
       "        0, 0, 1, 0, 0, 1, 0, 0, 0, 0, 0, 0, 0, 0, 0, 0, 0, 1, 1, 0, 0, 0,\n",
       "        1, 0, 0, 0, 1, 1, 1, 0, 0, 1, 0, 0, 0, 0, 1, 0, 1, 0, 1, 1, 1, 1,\n",
       "        1, 1, 0, 0, 0, 0, 0, 1, 0, 0, 0, 1, 0, 0, 1, 0, 1, 0, 1, 1, 0, 0,\n",
       "        0, 1, 1, 1, 1, 1, 0, 0, 0, 0, 1, 0, 1, 1, 1, 0, 1, 1, 0, 0, 0, 1,\n",
       "        0, 0, 1, 0, 0, 0, 0, 0, 1, 0, 1, 0, 1, 0, 0, 1, 1, 1, 0, 0, 1, 1,\n",
       "        0, 1, 0, 1, 0, 0, 0, 0, 0, 1, 0, 0, 1, 0, 0, 0, 1, 0, 0, 0, 0, 1,\n",
       "        0, 0, 1, 0, 0, 0, 0, 0, 0, 0, 0]])"
      ]
     },
     "execution_count": 30,
     "metadata": {},
     "output_type": "execute_result"
    }
   ],
   "source": [
    "train_set_y"
   ]
  },
  {
   "cell_type": "code",
   "execution_count": 31,
   "metadata": {},
   "outputs": [
    {
     "data": {
      "text/plain": [
       "<matplotlib.image.AxesImage at 0x117e27820>"
      ]
     },
     "execution_count": 31,
     "metadata": {},
     "output_type": "execute_result"
    },
    {
     "data": {
      "image/png": "[encoded data removed]",
      "text/plain": [
       "<Figure size 640x480 with 1 Axes>"
      ]
     },
     "metadata": {},
     "output_type": "display_data"
    }
   ],
   "source": [
    "plt.imshow(train_set_x_orig[25])"
   ]
  },
  {
   "cell_type": "code",
   "execution_count": 32,
   "metadata": {},
   "outputs": [],
   "source": [
    "# Flattened each image and transpose it so that each column represents a flattened image\n",
    "\n",
    "train_set_x_flatten =train_set_x_orig.reshape(train_set_x_orig.shape[0],-1).T\n",
    "test_set_x_flatten =test_set_x_orig.reshape(test_set_x_orig.shape[0],-1).T\n"
   ]
  },
  {
   "cell_type": "code",
   "execution_count": 33,
   "metadata": {},
   "outputs": [
    {
     "data": {
      "text/plain": [
       "array([17, 31, 56, ...,  0,  0,  0], dtype=uint8)"
      ]
     },
     "execution_count": 33,
     "metadata": {},
     "output_type": "execute_result"
    }
   ],
   "source": [
    "train_set_x_flatten[:,0]"
   ]
  },
  {
   "cell_type": "code",
   "execution_count": 34,
   "metadata": {},
   "outputs": [
    {
     "data": {
      "text/plain": [
       "(12288, 209)"
      ]
     },
     "execution_count": 34,
     "metadata": {},
     "output_type": "execute_result"
    }
   ],
   "source": [
    "train_set_x_flatten.shape"
   ]
  },
  {
   "cell_type": "code",
   "execution_count": 35,
   "metadata": {},
   "outputs": [
    {
     "name": "stdout",
     "output_type": "stream",
     "text": [
      "shape of training examples: (12288, 209)\n",
      "shape of training labels: (1, 209)\n"
     ]
    }
   ],
   "source": [
    "print (\"shape of training examples: \" + str(train_set_x_flatten.shape))\n",
    "print (\"shape of training labels: \" + str(train_set_y.shape))"
   ]
  },
  {
   "cell_type": "code",
   "execution_count": 36,
   "metadata": {},
   "outputs": [
    {
     "name": "stdout",
     "output_type": "stream",
     "text": [
      "shape of training examples: (12288, 209)\n"
     ]
    }
   ],
   "source": [
    "# normalize each image using a scale factor of 255\n",
    "\n",
    "train_set_x = train_set_x_flatten / 255.\n",
    "test_set_x = test_set_x_flatten / 255.\n",
    "\n",
    "print (\"shape of training examples: \" + str(train_set_x.shape))"
   ]
  },
  {
   "cell_type": "code",
   "execution_count": 37,
   "metadata": {},
   "outputs": [],
   "source": [
    "from LogisticRegression import LogisticRegression\n",
    "\n",
    "\n",
    "model = LogisticRegression(max_iter=2500,lr=0.006)"
   ]
  },
  {
   "cell_type": "code",
   "execution_count": 38,
   "metadata": {},
   "outputs": [],
   "source": [
    "costs = model.fit(train_set_x, train_set_y)"
   ]
  },
  {
   "cell_type": "code",
   "execution_count": 46,
   "metadata": {},
   "outputs": [
    {
     "data": {
      "text/plain": [
       "array([[0, 0, 1, 0, 0, 0, 0, 1, 0, 0, 0, 1, 0, 1, 1, 0, 0, 0, 0, 1, 0, 0,\n",
       "        0, 0, 1, 1, 0, 1, 0, 1, 0, 0, 0, 0, 0, 0, 0, 0, 1, 0, 0, 1, 1, 0,\n",
       "        0, 0, 0, 1, 0, 0, 1, 0, 0, 0, 1, 0, 1, 1, 0, 1, 1, 1, 0, 0, 0, 0,\n",
       "        0, 0, 1, 0, 0, 1, 0, 0, 0, 0, 0, 0, 0, 0, 0, 0, 0, 1, 1, 0, 0, 0,\n",
       "        1, 0, 0, 0, 1, 1, 1, 0, 0, 1, 0, 0, 0, 0, 1, 0, 1, 0, 1, 1, 1, 1,\n",
       "        1, 1, 0, 0, 0, 0, 0, 1, 0, 0, 0, 1, 0, 0, 1, 0, 1, 0, 1, 1, 0, 0,\n",
       "        0, 1, 1, 1, 1, 1, 0, 0, 0, 0, 1, 0, 1, 1, 1, 0, 1, 1, 0, 0, 0, 1,\n",
       "        0, 0, 1, 0, 0, 0, 0, 0, 1, 0, 1, 0, 1, 0, 0, 1, 1, 1, 0, 0, 1, 1,\n",
       "        0, 1, 0, 1, 0, 0, 0, 0, 0, 1, 0, 0, 1, 0, 0, 0, 1, 0, 0, 0, 0, 1,\n",
       "        0, 0, 1, 0, 0, 0, 0, 0, 0, 0, 0]])"
      ]
     },
     "execution_count": 46,
     "metadata": {},
     "output_type": "execute_result"
    }
   ],
   "source": [
    "train_set_y"
   ]
  },
  {
   "cell_type": "code",
   "execution_count": 39,
   "metadata": {},
   "outputs": [],
   "source": [
    "y_prediction = model.predict(test_set_x)"
   ]
  },
  {
   "cell_type": "code",
   "execution_count": 40,
   "metadata": {},
   "outputs": [
    {
     "data": {
      "text/plain": [
       "0.6799999999999999"
      ]
     },
     "execution_count": 40,
     "metadata": {},
     "output_type": "execute_result"
    }
   ],
   "source": [
    "model.score(test_set_x, test_set_y)"
   ]
  },
  {
   "cell_type": "code",
   "execution_count": 41,
   "metadata": {},
   "outputs": [
    {
     "data": {
      "image/png": "[encoded data removed]",
      "text/plain": [
       "<Figure size 640x480 with 1 Axes>"
      ]
     },
     "metadata": {},
     "output_type": "display_data"
    }
   ],
   "source": [
    "costs_per_100_iter = np.squeeze(model.costs)\n",
    "\n",
    "plt.plot(costs_per_100_iter)\n",
    "plt.ylabel('cost')\n",
    "plt.xlabel('iterations (per hundreds)')\n",
    "plt.title(f\"Learning rate = {model.lr}\")\n",
    "plt.show()"
   ]
  },
  {
   "cell_type": "code",
   "execution_count": 42,
   "metadata": {},
   "outputs": [
    {
     "data": {
      "text/plain": [
       "array([0.02745098, 0.32156863, 0.54509804, 0.01176471, 0.03137255,\n",
       "       0.34117647, 0.21176471, 0.45882353, 0.51372549, 0.10980392,\n",
       "       0.88627451, 0.4627451 , 0.12156863, 0.10980392, 0.3254902 ,\n",
       "       0.99607843, 1.        , 0.98823529, 0.59607843, 0.08627451,\n",
       "       0.44705882, 0.12156863, 0.73333333, 0.96470588, 0.64705882,\n",
       "       0.24313725, 0.18431373, 0.09411765, 0.05882353, 0.22352941,\n",
       "       0.15686275, 0.5372549 , 0.59607843, 0.63529412, 0.11372549,\n",
       "       0.4627451 , 0.1372549 , 0.92156863, 0.07843137, 0.28235294,\n",
       "       0.52941176, 0.00392157, 1.        , 0.2       , 0.45882353,\n",
       "       0.51372549, 0.64313725, 0.18431373, 0.07058824, 0.00392157,\n",
       "       0.71764706, 0.75294118, 0.85098039, 0.71764706, 0.17254902,\n",
       "       1.        , 0.30588235, 0.92156863, 0.09411765, 0.34901961,\n",
       "       0.14117647, 0.30196078, 0.61568627, 0.16078431, 0.4745098 ,\n",
       "       0.3372549 , 0.5254902 , 0.34509804, 0.47843137, 0.88235294,\n",
       "       1.        , 0.07843137, 0.08235294, 0.83921569, 0.10980392,\n",
       "       0.55294118, 0.12941176, 0.85490196, 0.19215686, 0.20784314,\n",
       "       0.87843137, 0.05882353, 0.08235294, 0.10196078, 0.34509804,\n",
       "       0.02745098, 0.36862745, 0.80392157, 0.42352941, 0.31764706,\n",
       "       0.41568627, 0.18039216, 0.30588235, 0.63137255, 0.87058824,\n",
       "       0.4627451 , 0.64313725, 0.14117647, 0.7254902 , 0.73333333,\n",
       "       0.83529412, 0.07843137, 0.11372549, 1.        , 0.71372549,\n",
       "       0.46666667, 0.37647059, 0.60784314, 0.6627451 , 0.50980392,\n",
       "       0.18039216, 0.25490196, 0.01176471, 0.43921569, 0.69803922,\n",
       "       0.58823529, 0.00784314, 0.36470588, 0.15686275, 0.24705882,\n",
       "       0.60784314, 0.6745098 , 0.10196078, 0.20392157, 0.89411765,\n",
       "       0.34901961, 0.63529412, 0.20784314, 0.41568627, 0.29019608,\n",
       "       0.41960784, 0.74901961, 0.00392157, 0.30196078, 0.25882353,\n",
       "       0.79607843, 0.68235294, 0.98431373, 0.56078431, 0.03137255,\n",
       "       0.8627451 , 0.4745098 , 0.81960784, 0.08235294, 0.46666667,\n",
       "       0.67058824, 0.90588235, 0.49803922, 0.14117647, 0.80784314,\n",
       "       0.99607843, 0.16862745, 0.10196078, 0.99607843, 0.04313725,\n",
       "       0.68235294, 0.35686275, 0.10196078, 0.61176471, 0.41568627,\n",
       "       0.20392157, 0.75686275, 0.68627451, 0.2627451 , 0.54117647,\n",
       "       0.1372549 , 0.4627451 , 0.12156863, 0.76470588, 0.92156863,\n",
       "       0.81176471, 0.45490196, 0.77254902, 0.44313725, 0.37647059,\n",
       "       0.16470588, 0.58039216, 0.40784314, 0.09803922, 0.70980392,\n",
       "       0.90980392, 0.77647059, 0.34509804, 0.6627451 , 0.37647059,\n",
       "       0.3372549 , 0.3372549 , 0.50588235, 1.        , 0.82352941,\n",
       "       0.78039216, 0.95686275, 0.5372549 , 0.30588235, 0.32941176,\n",
       "       0.        , 0.42745098, 0.67058824, 0.26666667, 0.4       ,\n",
       "       0.50196078, 1.        , 0.25882353, 0.22745098, 0.34117647,\n",
       "       0.02745098, 0.63137255, 0.09019608, 0.2       ])"
      ]
     },
     "execution_count": 42,
     "metadata": {},
     "output_type": "execute_result"
    }
   ],
   "source": [
    "train_set_x[900]"
   ]
  },
  {
   "cell_type": "code",
   "execution_count": 43,
   "metadata": {},
   "outputs": [
    {
     "data": {
      "text/plain": [
       "(12288, 1)"
      ]
     },
     "execution_count": 43,
     "metadata": {},
     "output_type": "execute_result"
    }
   ],
   "source": [
    "np.zeros((train_set_x.shape[0], 1)).shape"
   ]
  },
  {
   "cell_type": "code",
   "execution_count": 44,
   "metadata": {},
   "outputs": [],
   "source": [
    "A = np.random.randn(4,3)\n",
    "\n",
    "B = np.sum(A, axis = 1) "
   ]
  },
  {
   "cell_type": "code",
   "execution_count": 45,
   "metadata": {},
   "outputs": [
    {
     "data": {
      "text/plain": [
       "(4,)"
      ]
     },
     "execution_count": 45,
     "metadata": {},
     "output_type": "execute_result"
    }
   ],
   "source": [
    "B.shape"
   ]
  },
  {
   "cell_type": "code",
   "execution_count": null,
   "metadata": {},
   "outputs": [],
   "source": []
  }
 ],
 "metadata": {
  "kernelspec": {
   "display_name": "env",
   "language": "python",
   "name": "python3"
  },
  "language_info": {
   "codemirror_mode": {
    "name": "ipython",
    "version": 3
   },
   "file_extension": ".py",
   "mimetype": "text/x-python",
   "name": "python",
   "nbconvert_exporter": "python",
   "pygments_lexer": "ipython3",
   "version": "3.9.6"
  }
 },
 "nbformat": 4,
 "nbformat_minor": 2
}
